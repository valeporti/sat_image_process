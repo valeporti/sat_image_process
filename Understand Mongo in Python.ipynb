{
 "cells": [
  {
   "cell_type": "code",
   "execution_count": 1,
   "metadata": {},
   "outputs": [],
   "source": [
    "# http://api.mongodb.com/python/current/tutorial.html\n",
    "import pymongo\n",
    "from pymongo import MongoClient"
   ]
  },
  {
   "cell_type": "code",
   "execution_count": 2,
   "metadata": {},
   "outputs": [
    {
     "data": {
      "text/plain": [
       "MongoClient(host=['localhost:27017'], document_class=dict, tz_aware=False, connect=True)"
      ]
     },
     "execution_count": 2,
     "metadata": {},
     "output_type": "execute_result"
    }
   ],
   "source": [
    "client = MongoClient('localhost', 27017)\n",
    "client"
   ]
  },
  {
   "cell_type": "code",
   "execution_count": 3,
   "metadata": {},
   "outputs": [
    {
     "data": {
      "text/plain": [
       "['admin', 'config', 'local', 'ps4-test', 'ps4_test_1_May']"
      ]
     },
     "execution_count": 3,
     "metadata": {},
     "output_type": "execute_result"
    }
   ],
   "source": [
    "client.list_database_names()"
   ]
  },
  {
   "cell_type": "code",
   "execution_count": 4,
   "metadata": {},
   "outputs": [],
   "source": [
    "# create database\n",
    "my_db = client[\"ps4-test\"]"
   ]
  },
  {
   "cell_type": "code",
   "execution_count": 5,
   "metadata": {},
   "outputs": [
    {
     "data": {
      "text/plain": [
       "['admin', 'config', 'local', 'ps4-test', 'ps4_test_1_May']"
      ]
     },
     "execution_count": 5,
     "metadata": {},
     "output_type": "execute_result"
    }
   ],
   "source": [
    "client.list_database_names()"
   ]
  },
  {
   "cell_type": "code",
   "execution_count": 6,
   "metadata": {},
   "outputs": [],
   "source": [
    "# create collection\n",
    "downloaded_files_collection = my_db['downloaded_files']"
   ]
  },
  {
   "cell_type": "code",
   "execution_count": 7,
   "metadata": {},
   "outputs": [
    {
     "data": {
      "text/plain": [
       "['admin', 'config', 'local', 'ps4-test', 'ps4_test_1_May']"
      ]
     },
     "execution_count": 7,
     "metadata": {},
     "output_type": "execute_result"
    }
   ],
   "source": [
    "client.list_database_names()"
   ]
  },
  {
   "cell_type": "code",
   "execution_count": 8,
   "metadata": {},
   "outputs": [],
   "source": [
    "import datetime\n",
    "file_example = {\n",
    "    \"name\": \"S1_BALBLASLJlksjalksjlkajslajs\",\n",
    "    \"date\": datetime.datetime.utcnow(),\n",
    "}"
   ]
  },
  {
   "cell_type": "code",
   "execution_count": 17,
   "metadata": {},
   "outputs": [
    {
     "data": {
      "text/plain": [
       "<pymongo.results.InsertOneResult at 0x7f1df43319c8>"
      ]
     },
     "execution_count": 17,
     "metadata": {},
     "output_type": "execute_result"
    }
   ],
   "source": [
    "downloaded_files_collection.insert_one(file_example)"
   ]
  },
  {
   "cell_type": "code",
   "execution_count": 18,
   "metadata": {},
   "outputs": [
    {
     "data": {
      "text/plain": [
       "['admin', 'config', 'local', 'ps4-test']"
      ]
     },
     "execution_count": 18,
     "metadata": {},
     "output_type": "execute_result"
    }
   ],
   "source": [
    "client.list_database_names()"
   ]
  },
  {
   "cell_type": "code",
   "execution_count": 22,
   "metadata": {},
   "outputs": [
    {
     "name": "stdout",
     "output_type": "stream",
     "text": [
      "{'_id': ObjectId('5cb4bc8665583b2137f40fed'),\n",
      " 'date': datetime.datetime(2019, 4, 15, 17, 16, 27, 81000),\n",
      " 'name': 'S1_BALBLASLJlksjalksjlkajslajs'}\n"
     ]
    }
   ],
   "source": [
    "import pprint\n",
    "for file in downloaded_files_collection.find():\n",
    "    pprint.pprint(file)"
   ]
  },
  {
   "cell_type": "code",
   "execution_count": 41,
   "metadata": {},
   "outputs": [],
   "source": [
    "from bson import Binary\n",
    "from PIL import Image\n",
    "import numpy as np\n",
    "import io\n",
    "import base64\n",
    "from bson.objectid import ObjectId"
   ]
  },
  {
   "cell_type": "code",
   "execution_count": 38,
   "metadata": {},
   "outputs": [],
   "source": [
    "img_dir = \"./output/1_img\"\n",
    "imgByteArr = io.BytesIO()\n",
    "img = Image.open(img_dir).convert()\n",
    "bin_img = None; # = Binary(np.array(img))\n",
    "with open(img_dir, \"rb\") as imageFile:\n",
    "    bin_img = base64.b64encode(imageFile.read())"
   ]
  },
  {
   "cell_type": "code",
   "execution_count": 39,
   "metadata": {},
   "outputs": [],
   "source": [
    "# Proposed Tables\n",
    "detection = {\n",
    "    'length': None,\n",
    "    'width': None,\n",
    "    'reliability': None,\n",
    "    'lwh_reliability': None,\n",
    "    'lon': None,\n",
    "    'lat': None,\n",
    "    'img': bin_img\n",
    "}"
   ]
  },
  {
   "cell_type": "code",
   "execution_count": 40,
   "metadata": {},
   "outputs": [
    {
     "data": {
      "text/plain": [
       "<pymongo.results.InsertOneResult at 0x7f1b26794048>"
      ]
     },
     "execution_count": 40,
     "metadata": {},
     "output_type": "execute_result"
    }
   ],
   "source": [
    "downloaded_files_collection.insert_one(detection)"
   ]
  },
  {
   "cell_type": "code",
   "execution_count": 61,
   "metadata": {},
   "outputs": [],
   "source": [
    "\n",
    "det = downloaded_files_collection.find_one({'_id': ObjectId(\"5ce6c41f65583b1c8ad3462b\")})"
   ]
  },
  {
   "cell_type": "code",
   "execution_count": 62,
   "metadata": {},
   "outputs": [
    {
     "data": {
      "text/plain": [
       "{'_id': ObjectId('5ce6c41f65583b1c8ad3462b'),\n",
       " 'length': None,\n",
       " 'width': None,\n",
       " 'reliability': None,\n",
       " 'lwh_reliability': None,\n",
       " 'lon': None,\n",
       " 'lat': None,\n",
       " 'img': b'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'}"
      ]
     },
     "execution_count": 62,
     "metadata": {},
     "output_type": "execute_result"
    }
   ],
   "source": [
    "det"
   ]
  },
  {
   "cell_type": "code",
   "execution_count": 82,
   "metadata": {},
   "outputs": [],
   "source": [
    "img = base64.b64decode(bin_img)"
   ]
  },
  {
   "cell_type": "code",
   "execution_count": 84,
   "metadata": {},
   "outputs": [],
   "source": [
    "with open('./new.png', 'wb') as f:\n",
    "    f.write(img)"
   ]
  },
  {
   "cell_type": "code",
   "execution_count": 80,
   "metadata": {},
   "outputs": [
    {
     "ename": "AttributeError",
     "evalue": "'bytes' object has no attribute 'size'",
     "output_type": "error",
     "traceback": [
      "\u001b[0;31m---------------------------------------------------------------------------\u001b[0m",
      "\u001b[0;31mAttributeError\u001b[0m                            Traceback (most recent call last)",
      "\u001b[0;32m<ipython-input-80-feb5174456f2>\u001b[0m in \u001b[0;36m<module>\u001b[0;34m\u001b[0m\n\u001b[0;32m----> 1\u001b[0;31m \u001b[0mbin_img\u001b[0m\u001b[0;34m.\u001b[0m\u001b[0msize\u001b[0m\u001b[0;34m(\u001b[0m\u001b[0;34m)\u001b[0m\u001b[0;34m\u001b[0m\u001b[0;34m\u001b[0m\u001b[0m\n\u001b[0m",
      "\u001b[0;31mAttributeError\u001b[0m: 'bytes' object has no attribute 'size'"
     ]
    }
   ],
   "source": [
    "bin_img.size()"
   ]
  },
  {
   "cell_type": "code",
   "execution_count": null,
   "metadata": {},
   "outputs": [],
   "source": []
  }
 ],
 "metadata": {
  "kernelspec": {
   "display_name": "Python 3",
   "language": "python",
   "name": "python3"
  },
  "language_info": {
   "codemirror_mode": {
    "name": "ipython",
    "version": 3
   },
   "file_extension": ".py",
   "mimetype": "text/x-python",
   "name": "python",
   "nbconvert_exporter": "python",
   "pygments_lexer": "ipython3",
   "version": "3.6.7"
  }
 },
 "nbformat": 4,
 "nbformat_minor": 2
}
